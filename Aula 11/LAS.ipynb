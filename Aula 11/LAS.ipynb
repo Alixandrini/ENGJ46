{
 "cells": [
  {
   "cell_type": "code",
   "execution_count": 1,
   "metadata": {
    "ExecuteTime": {
     "end_time": "2021-03-09T18:57:42.316086Z",
     "start_time": "2021-03-09T18:57:39.795846Z"
    }
   },
   "outputs": [],
   "source": [
    "    from laspy.file import File\n",
    "    def read_laser(directory):\n",
    "        # function to read '.las' files and print their size\n",
    "        # input: file location and its name\n",
    "        # output: .las file in numpy array\n",
    "        laser_file = File(directory, mode='r')\n",
    "        print('Number of points     >   ', len(laser_file.points))\n",
    "        print('Scale of axis    >   ', laser_file.header.scale)\n",
    "        print('Offset of points    >   ', laser_file.header.offset)\n",
    "        print('Each column is    >  ', laser_file.points.dtype)\n",
    "        print('Number of columns is     >   ', len(laser_file.points.dtype[0]))\n",
    "        return laser_file"
   ]
  },
  {
   "cell_type": "code",
   "execution_count": null,
   "metadata": {
    "ExecuteTime": {
     "start_time": "2021-03-09T19:06:22.757Z"
    }
   },
   "outputs": [],
   "source": [
    "    import numpy as np\n",
    "    file_name = 'c://Users/alixa/Documents/LIDAR/itpitanga.las'\n",
    "    las = read_laser(file_name)\n",
    "    Points = np.asarray(las.points.tolist(), dtype=np.int32)\n",
    "    Points_Array = np.zeros((len(las.points), len(las.points.dtype[0])), dtype=np.int32)\n",
    "    for i in range(len(las.points)):\n",
    "        Points_Array[i, :] = Points[i][0]\n",
    "    numberPTC = Points_Array.shape[0]"
   ]
  },
  {
   "cell_type": "code",
   "execution_count": 4,
   "metadata": {
    "ExecuteTime": {
     "end_time": "2021-03-09T19:05:44.045677Z",
     "start_time": "2021-03-09T19:05:44.015347Z"
    }
   },
   "outputs": [
    {
     "data": {
      "text/plain": [
       "array([[-2051,  4004,  -620, ..., 19968, 19712, 19712],\n",
       "       [-2024,  3987,  -606, ..., 21760, 21248, 21504],\n",
       "       [-2019,  3970,  -617, ..., 23552, 23040, 23808],\n",
       "       ...,\n",
       "       [-2057,  4625, -1846, ..., 29696, 28672, 28928],\n",
       "       [-2043,  4644, -1875, ..., 26880, 26368, 26368],\n",
       "       [-2013,  4652, -1882, ..., 45824, 45824, 47104]])"
      ]
     },
     "execution_count": 4,
     "metadata": {},
     "output_type": "execute_result"
    }
   ],
   "source": [
    "Points_Array"
   ]
  },
  {
   "cell_type": "code",
   "execution_count": null,
   "metadata": {},
   "outputs": [],
   "source": []
  }
 ],
 "metadata": {
  "kernelspec": {
   "display_name": "Python 3",
   "language": "python",
   "name": "python3"
  },
  "language_info": {
   "codemirror_mode": {
    "name": "ipython",
    "version": 3
   },
   "file_extension": ".py",
   "mimetype": "text/x-python",
   "name": "python",
   "nbconvert_exporter": "python",
   "pygments_lexer": "ipython3",
   "version": "3.7.1"
  },
  "toc": {
   "base_numbering": 1,
   "nav_menu": {},
   "number_sections": true,
   "sideBar": true,
   "skip_h1_title": false,
   "title_cell": "Table of Contents",
   "title_sidebar": "Contents",
   "toc_cell": false,
   "toc_position": {},
   "toc_section_display": true,
   "toc_window_display": false
  }
 },
 "nbformat": 4,
 "nbformat_minor": 2
}
