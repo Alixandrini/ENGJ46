{
  "nbformat": 4,
  "nbformat_minor": 0,
  "metadata": {
    "kernelspec": {
      "display_name": "Python 3",
      "language": "python",
      "name": "python3"
    },
    "language_info": {
      "codemirror_mode": {
        "name": "ipython",
        "version": 3
      },
      "file_extension": ".py",
      "mimetype": "text/x-python",
      "name": "python",
      "nbconvert_exporter": "python",
      "pygments_lexer": "ipython3",
      "version": "3.7.1"
    },
    "toc": {
      "base_numbering": 1,
      "nav_menu": {},
      "number_sections": true,
      "sideBar": true,
      "skip_h1_title": false,
      "title_cell": "Table of Contents",
      "title_sidebar": "Contents",
      "toc_cell": false,
      "toc_position": {},
      "toc_section_display": true,
      "toc_window_display": false
    },
    "colab": {
      "name": "PCA.ipynb",
      "provenance": []
    }
  },
  "cells": [
    {
      "cell_type": "markdown",
      "metadata": {
        "id": "5UGhUGpFzv6o"
      },
      "source": [
        "# Dissecando a Análise de Componentes Principais\n",
        "\n",
        "*Fonte: Adaptado da Postagem de 2014 de [Pyhton4Oceanographers](https://ocefpaf.github.io/python4oceanographers/blog/2014/12/01/PCA/)*"
      ]
    },
    {
      "cell_type": "markdown",
      "metadata": {
        "ExecuteTime": {
          "end_time": "2021-03-08T13:26:29.487785Z",
          "start_time": "2021-03-08T13:26:29.467627Z"
        },
        "id": "Rq_RnKjMzv63"
      },
      "source": [
        "A Análise de Componentes Principais (em inglês PCA) é o nome comum dado à técnica que usa princípios de álgebra linear para transformar variáveis, possivelmente correlacionadas, em um número menor de variáveis chamadas de Componentes Principais (novamente em inglês PC). <br>\n",
        "\n",
        "A PCA é usada em diversas aplicações, desde a compressão de dados (MP3, JPG) até remoção de ruídos, passando pela análises de grande quantidade de dados.<br>\n",
        "\n",
        "## PCA do ponto de vista da Geometria Espacial\n",
        "<br>\n",
        "Em termos gerais a PCA busca reduzir o número de dimensões de um set de dados. Projetando os dados em um novo plano. Usando essa nova projeção os dados originais, que podem envolver diversas variáveis, podem ser interpretados utilizando menos \"dimensões.\"<br>\n",
        "\n",
        "No set de dados reduzido podemos observar com mais clareza tendências, padrões e/ou outliers. Mas vale lembrar que a regra: \"Se não está nos dados brutos não existe!\" é sempre válida. A PCA fornece apenas mais clareza aos padrões que já estão lá.\n",
        "<br>\n",
        "Utilizaremos dois vetores 1D conhecidos $(x, y)$ para entender essa nova projeção que a PCA faz. Note que os vetores possuem uma clara dependência linear.<br>\n",
        "\n",
        "O primeiro passo é remover as médias dos dados.<br>\n",
        "\n",
        "(Dados e exemplo: http://bekoc.blogspot.com.br/2013/12/implementing-principle-component.html)\n"
      ]
    },
    {
      "cell_type": "code",
      "metadata": {
        "ExecuteTime": {
          "end_time": "2021-03-15T21:39:11.617968Z",
          "start_time": "2021-03-15T21:39:02.838157Z"
        },
        "colab": {
          "base_uri": "https://localhost:8080/",
          "height": 112
        },
        "id": "SRZU-S10zv65",
        "outputId": "cc0cb3f3-7ab1-4024-880c-03eb3e2c5fdb"
      },
      "source": [
        "import numpy as np\n",
        "from pandas import DataFrame\n",
        "\n",
        "x = np.array([2.5, 0.5, 2.2, 1.9, 3.1, 2.3, 2.0, 1.0, 1.5, 1.1])\n",
        "y = np.array([2.4, 0.7, 2.9, 2.2, 3.0, 2.7, 1.6, 1.1, 1.6, 0.9])\n",
        "\n",
        "Z = np.c_[x - x.mean(), y - y.mean()]\n",
        "df = DataFrame(Z, columns=['x', 'y'])\n",
        "df.index.name = 'Medidas'\n",
        "df.T"
      ],
      "execution_count": null,
      "outputs": [
        {
          "output_type": "execute_result",
          "data": {
            "text/html": [
              "<div>\n",
              "<style scoped>\n",
              "    .dataframe tbody tr th:only-of-type {\n",
              "        vertical-align: middle;\n",
              "    }\n",
              "\n",
              "    .dataframe tbody tr th {\n",
              "        vertical-align: top;\n",
              "    }\n",
              "\n",
              "    .dataframe thead th {\n",
              "        text-align: right;\n",
              "    }\n",
              "</style>\n",
              "<table border=\"1\" class=\"dataframe\">\n",
              "  <thead>\n",
              "    <tr style=\"text-align: right;\">\n",
              "      <th>Medidas</th>\n",
              "      <th>0</th>\n",
              "      <th>1</th>\n",
              "      <th>2</th>\n",
              "      <th>3</th>\n",
              "      <th>4</th>\n",
              "      <th>5</th>\n",
              "      <th>6</th>\n",
              "      <th>7</th>\n",
              "      <th>8</th>\n",
              "      <th>9</th>\n",
              "    </tr>\n",
              "  </thead>\n",
              "  <tbody>\n",
              "    <tr>\n",
              "      <th>x</th>\n",
              "      <td>0.69</td>\n",
              "      <td>-1.31</td>\n",
              "      <td>0.39</td>\n",
              "      <td>0.09</td>\n",
              "      <td>1.29</td>\n",
              "      <td>0.49</td>\n",
              "      <td>0.19</td>\n",
              "      <td>-0.81</td>\n",
              "      <td>-0.31</td>\n",
              "      <td>-0.71</td>\n",
              "    </tr>\n",
              "    <tr>\n",
              "      <th>y</th>\n",
              "      <td>0.49</td>\n",
              "      <td>-1.21</td>\n",
              "      <td>0.99</td>\n",
              "      <td>0.29</td>\n",
              "      <td>1.09</td>\n",
              "      <td>0.79</td>\n",
              "      <td>-0.31</td>\n",
              "      <td>-0.81</td>\n",
              "      <td>-0.31</td>\n",
              "      <td>-1.01</td>\n",
              "    </tr>\n",
              "  </tbody>\n",
              "</table>\n",
              "</div>"
            ],
            "text/plain": [
              "Medidas     0     1     2     3     4     5     6     7     8     9\n",
              "x        0.69 -1.31  0.39  0.09  1.29  0.49  0.19 -0.81 -0.31 -0.71\n",
              "y        0.49 -1.21  0.99  0.29  1.09  0.79 -0.31 -0.81 -0.31 -1.01"
            ]
          },
          "metadata": {
            "tags": []
          },
          "execution_count": 1
        }
      ]
    },
    {
      "cell_type": "markdown",
      "metadata": {
        "id": "Tn_zEheWzv6-"
      },
      "source": [
        "O segundo passo é a normalização dos dados. A mais costumeira é, após remover a média, dividir os dados pelo desvio padrão. Esse procedimento também é chamado de z-score."
      ]
    },
    {
      "cell_type": "code",
      "metadata": {
        "ExecuteTime": {
          "end_time": "2021-03-15T21:39:15.628269Z",
          "start_time": "2021-03-15T21:39:15.133030Z"
        },
        "colab": {
          "base_uri": "https://localhost:8080/",
          "height": 350
        },
        "id": "QTIy5UBwzv7A",
        "outputId": "a3476eea-e3be-4297-a046-57b78a87d4f1"
      },
      "source": [
        "import matplotlib.pyplot as plt\n",
        "\n",
        "line = dict(linewidth=1, linestyle='--', color='k')\n",
        "marker = dict(linestyle='none', marker='o', markersize=7, color='blue', alpha=0.5)\n",
        "\n",
        "\n",
        "fig, ax = plt.subplots(figsize=(5, 5))\n",
        "ax.plot(x, y, **marker)\n",
        "ax.axhline(**line)\n",
        "ax.axvline(**line)\n",
        "ax.set_xlabel('x')\n",
        "ax.set_ylabel('y')\n",
        "ax.set_title(u'Dados Originais (com a média)')\n",
        "_ = ax.axis([-1, 4, -1, 4])"
      ],
      "execution_count": null,
      "outputs": [
        {
          "output_type": "display_data",
          "data": {
            "image/png": "[encoded data removed]",
            "text/plain": [
              "<Figure size 360x360 with 1 Axes>"
            ]
          },
          "metadata": {
            "tags": [],
            "needs_background": "light"
          }
        }
      ]
    },
    {
      "cell_type": "markdown",
      "metadata": {
        "id": "DO-0OoU3zv7B"
      },
      "source": [
        "O terceiro passo é calcular a covariância dos dados normalizados."
      ]
    },
    {
      "cell_type": "code",
      "metadata": {
        "ExecuteTime": {
          "end_time": "2021-03-15T21:39:46.927826Z",
          "start_time": "2021-03-15T21:39:46.838040Z"
        },
        "colab": {
          "base_uri": "https://localhost:8080/"
        },
        "id": "xqRu4PB2zv7C",
        "outputId": "2953991c-2051-4560-aa6e-be274db03817"
      },
      "source": [
        "cov = np.cov(Z.T)\n",
        "cov"
      ],
      "execution_count": null,
      "outputs": [
        {
          "output_type": "execute_result",
          "data": {
            "text/plain": [
              "array([[0.61655556, 0.61544444],\n",
              "       [0.61544444, 0.71655556]])"
            ]
          },
          "metadata": {
            "tags": []
          },
          "execution_count": 3
        }
      ]
    },
    {
      "cell_type": "markdown",
      "metadata": {
        "id": "kSeEuiShzv7D"
      },
      "source": [
        "A \"redução\" dos dados pode ser feita por Singular Value Decomposition (SVD) ou Empirical Orthogonal Functions (EOF). Estamos buscando planos ortogonais entre as variáveis que maximize a variança.\n",
        "<br>\n",
        "Vamos utilizar a EOF, ou seja, calculando os Autovalores e Autovetores da matriz de covariança. Mas colocarei aqui o correspondente usando a SVD como exercício:"
      ]
    },
    {
      "cell_type": "code",
      "metadata": {
        "ExecuteTime": {
          "end_time": "2021-03-15T21:40:38.348206Z",
          "start_time": "2021-03-15T21:40:38.228089Z"
        },
        "id": "l_Zsxdjlzv7D"
      },
      "source": [
        "U, S, V = np.linalg.svd(cov, full_matrices=True, compute_uv=True)\n",
        "\n",
        "S  # Similar aos Autovalores\n",
        "V  # Similar aos Autovetores\n",
        "PCs = np.dot(V, Z.T)  # Crie um gráfico que se compare com os abaixo."
      ],
      "execution_count": null,
      "outputs": []
    },
    {
      "cell_type": "code",
      "metadata": {
        "ExecuteTime": {
          "end_time": "2021-03-15T21:43:05.107737Z",
          "start_time": "2021-03-15T21:43:05.017810Z"
        },
        "id": "dyqvvKv-zv7E"
      },
      "source": [
        "eigenvalues, eigenvectors = np.linalg.eig(cov)"
      ],
      "execution_count": null,
      "outputs": []
    },
    {
      "cell_type": "code",
      "metadata": {
        "ExecuteTime": {
          "end_time": "2021-03-15T21:43:08.787788Z",
          "start_time": "2021-03-15T21:43:08.767953Z"
        },
        "colab": {
          "base_uri": "https://localhost:8080/"
        },
        "id": "qQlocuPkzv7E",
        "outputId": "56a45b10-b638-43a6-a002-57f93b0fa723"
      },
      "source": [
        "eigenvalues"
      ],
      "execution_count": null,
      "outputs": [
        {
          "output_type": "execute_result",
          "data": {
            "text/plain": [
              "array([0.0490834 , 1.28402771])"
            ]
          },
          "metadata": {
            "tags": []
          },
          "execution_count": 7
        }
      ]
    },
    {
      "cell_type": "code",
      "metadata": {
        "ExecuteTime": {
          "end_time": "2021-03-15T21:43:21.167609Z",
          "start_time": "2021-03-15T21:43:21.137923Z"
        },
        "colab": {
          "base_uri": "https://localhost:8080/"
        },
        "id": "A7x35bF9zv7H",
        "outputId": "46823bf8-1f3c-46fe-815e-cbe151e1abab"
      },
      "source": [
        "eigenvectors"
      ],
      "execution_count": null,
      "outputs": [
        {
          "output_type": "execute_result",
          "data": {
            "text/plain": [
              "array([[-0.73517866, -0.6778734 ],\n",
              "       [ 0.6778734 , -0.73517866]])"
            ]
          },
          "metadata": {
            "tags": []
          },
          "execution_count": 8
        }
      ]
    },
    {
      "cell_type": "markdown",
      "metadata": {
        "id": "jwgQ0dK5zv7I"
      },
      "source": [
        "As componentes principais são os Autovetores. É comum normalizar os Autovetores para facilitar as comparações entre eles."
      ]
    },
    {
      "cell_type": "code",
      "metadata": {
        "ExecuteTime": {
          "end_time": "2021-03-15T21:43:50.497672Z",
          "start_time": "2021-03-15T21:43:50.467491Z"
        },
        "colab": {
          "base_uri": "https://localhost:8080/"
        },
        "id": "4slKEnZazv7K",
        "outputId": "fe01c2da-2dc7-42eb-b532-a35c2974dcc9"
      },
      "source": [
        "pc = eigenvectors[1] / eigenvectors[0]\n",
        "pc"
      ],
      "execution_count": null,
      "outputs": [
        {
          "output_type": "execute_result",
          "data": {
            "text/plain": [
              "array([-0.92205261,  1.08453681])"
            ]
          },
          "metadata": {
            "tags": []
          },
          "execution_count": 9
        }
      ]
    },
    {
      "cell_type": "markdown",
      "metadata": {
        "id": "vaqfAB6lzv7K"
      },
      "source": [
        "Vamos plotar os vetores que definem esse novo plano ortogonal saindo do ponto $(0, 0)$ até $x$ máximo (Autovalor) e $y$ máximo (componente principal normalizada e dimensionada para o autovalor.)"
      ]
    },
    {
      "cell_type": "code",
      "metadata": {
        "ExecuteTime": {
          "end_time": "2021-03-15T21:43:59.317927Z",
          "start_time": "2021-03-15T21:43:59.047599Z"
        },
        "colab": {
          "base_uri": "https://localhost:8080/",
          "height": 338
        },
        "id": "QGDRtrz7zv7L",
        "outputId": "6d227d92-8ca5-4831-ff84-b275644ec876"
      },
      "source": [
        "fig, ax = plt.subplots(figsize=(5, 5))\n",
        "ax.plot(Z[:, 0], Z[:, 1], **marker)\n",
        "ax.set_xlim([-2, 2])\n",
        "ax.set_ylim([-2, 2])\n",
        "ax.axhline(**line)\n",
        "ax.axvline(**line)\n",
        "ax.set_xlabel('x')\n",
        "ax.set_ylabel('y')\n",
        "\n",
        "arrowprops = dict(width=0.01, head_width=0.05, alpha = 0.5,\n",
        "                  length_includes_head=False)\n",
        "a1 = ax.arrow(0, 0, eigenvalues[0], pc[0] * eigenvalues[0],\n",
        "              color='k', **arrowprops)\n",
        "a2 = ax.arrow(0, 0, eigenvalues[1], pc[1] * eigenvalues[1],\n",
        "              color='k', **arrowprops)\n",
        "a3 = ax.arrow(0, 0, -eigenvalues[0], -pc[0] * eigenvalues[0],\n",
        "              color='r', **arrowprops)\n",
        "a4 = ax.arrow(0, 0, -eigenvalues[1], -pc[1] * eigenvalues[1],\n",
        "              color='r', **arrowprops)"
      ],
      "execution_count": null,
      "outputs": [
        {
          "output_type": "display_data",
          "data": {
            "image/png": "[encoded data removed]",
            "text/plain": [
              "<Figure size 360x360 with 1 Axes>"
            ]
          },
          "metadata": {
            "tags": [],
            "needs_background": "light"
          }
        }
      ]
    },
    {
      "cell_type": "markdown",
      "metadata": {
        "id": "_C2-E1PDzv7N"
      },
      "source": [
        "É fácil de ver que esse novo plano se orienta onde os dados variam. Bom, geometricamente e isso. Agora vamos testar um pacote pronto para a análise de PCA. Vou comparar o que acabamos de fazer com os resultados do módulo scikit-learn."
      ]
    },
    {
      "cell_type": "code",
      "metadata": {
        "ExecuteTime": {
          "end_time": "2021-03-15T21:45:13.642641Z",
          "start_time": "2021-03-15T21:44:59.127926Z"
        },
        "colab": {
          "base_uri": "https://localhost:8080/",
          "height": 281
        },
        "id": "Ieyu_d1Uzv7O",
        "outputId": "3f43edd7-966f-4ded-c91b-d7bb3a69ef20"
      },
      "source": [
        "from sklearn.decomposition import PCA\n",
        "\n",
        "pca = PCA(n_components=2, copy=True)\n",
        "X = pca.fit_transform(Z)\n",
        "\n",
        "fig, ax = plt.subplots()\n",
        "ax.plot(X[:, 0], X[:, 1], **marker) \n",
        "ax.set_xlim([-2, 2])\n",
        "ax.set_ylim([-2, 2])\n",
        "ax.axhline(**line)\n",
        "ax.axvline(**line)\n",
        "_ = ax.set_title(\"PCA\")"
      ],
      "execution_count": null,
      "outputs": [
        {
          "output_type": "display_data",
          "data": {
            "image/png": "[encoded data removed]",
            "text/plain": [
              "<Figure size 432x288 with 1 Axes>"
            ]
          },
          "metadata": {
            "tags": [],
            "needs_background": "light"
          }
        }
      ]
    },
    {
      "cell_type": "markdown",
      "metadata": {
        "id": "9YjD_nDIzv7P"
      },
      "source": [
        "\n",
        "\n",
        "Essa seria a cara dos dados \"rodados\" para o novo plano calculado pela análise. Para entender melhor o que isso quer dizer de uma olhada em:<br>\n",
        "\n",
        "https://georgemdallas.wordpress.com/2013/10/30/principal-component-analysis-4-dummies-eigenvectors-eigenvalues-and-dimension-reduction/<br>\n",
        "\n",
        "Note que os dados em si são os mesmos. Nos apenas rodamos para um novo set de eixos (principais). Estamos literalmente olhado para os dados sob um novo ângulo ;-). Esse novo \"ângulo\" é mais intuitivo para tirarmos conclusões sobre os dados.\n",
        "<br>\n",
        "Um exemplo de aplicação direta em oceanografia física é rodar as componentes da velocidade $u$ e $v$ de um fundeio em rio ou na plataforma continental para os seus eixos principais. Intuitivamente podemos concluir que tais eixos, em geral, corresponderão aos \"ao longo\" e \"perpendicular\" à margem do rio ou dá isóbata do fundeio costeiro. Não é mais intuitivo que eixos geográficos Norte e Sul?<br>\n",
        "\n",
        "(Aqui tem uma função faz exatamente isso para séries temporais de velocidade.) <br>\n",
        "\n",
        "Vamos comprar os resultados entre sklearn e o que fizemos anteriormente:\n"
      ]
    },
    {
      "cell_type": "code",
      "metadata": {
        "ExecuteTime": {
          "end_time": "2021-03-15T21:46:54.787518Z",
          "start_time": "2021-03-15T21:46:54.767767Z"
        },
        "colab": {
          "base_uri": "https://localhost:8080/"
        },
        "id": "jlqbPpBRzv7Q",
        "outputId": "44711cc6-39ac-4736-8a0b-4b56f2233087"
      },
      "source": [
        "print(eigenvectors)\n",
        "print('')\n",
        "print(pca.components_)"
      ],
      "execution_count": null,
      "outputs": [
        {
          "output_type": "stream",
          "text": [
            "[[-0.73517866 -0.6778734 ]\n",
            " [ 0.6778734  -0.73517866]]\n",
            "\n",
            "[[-0.6778734  -0.73517866]\n",
            " [-0.73517866  0.6778734 ]]\n"
          ],
          "name": "stdout"
        }
      ]
    },
    {
      "cell_type": "markdown",
      "metadata": {
        "id": "IA0vRZv7zv7Q"
      },
      "source": [
        "Mesmo resultado! Mas note que as componentes estão organizadas em ordem crescente dos autovalores no módulo sklearn. O que mais temos no objeto pca:"
      ]
    },
    {
      "cell_type": "code",
      "metadata": {
        "ExecuteTime": {
          "end_time": "2021-03-08T13:38:36.317533Z",
          "start_time": "2021-03-08T13:38:36.297625Z"
        },
        "colab": {
          "base_uri": "https://localhost:8080/"
        },
        "id": "3h9fIF3vzv7Q",
        "outputId": "c29ff958-6b5a-4c8c-8e90-6cf74bb34f09"
      },
      "source": [
        "pca.explained_variance_ratio_  # Quanto da variância é explicada por cada componente."
      ],
      "execution_count": null,
      "outputs": [
        {
          "output_type": "execute_result",
          "data": {
            "text/plain": [
              "array([0.96318131, 0.03681869])"
            ]
          },
          "metadata": {
            "tags": []
          },
          "execution_count": 13
        }
      ]
    },
    {
      "cell_type": "markdown",
      "metadata": {
        "id": "njCJD2POzv7R"
      },
      "source": [
        "\n",
        "## Entendendo a PCA do ponto de visto estatístico\n",
        "\n",
        "Uma PCA entre duas variáveis, como fizemos no exemplo acima, não é muito diferente de uma correlação simples entre elas. A PCA começa a ser útil quando lidamos com diversas variáveis. Para entender essa afirmação vamos calcular a correlação de Pearson para os nossos dados.\n"
      ]
    },
    {
      "cell_type": "code",
      "metadata": {
        "ExecuteTime": {
          "end_time": "2021-03-15T21:47:54.332551Z",
          "start_time": "2021-03-15T21:47:54.287234Z"
        },
        "id": "UycZ3oLpzv7R",
        "outputId": "ae5e1d4e-c933-47b4-f130-57fc228431a8"
      },
      "source": [
        "from scipy.stats.stats import pearsonr\n",
        "\n",
        "r, p = pearsonr(x-x.mean(), y-y.mean())\n",
        "\n",
        "print('Pearson r: {}\\nPC 1: {}:'.format(r, pc[0]))"
      ],
      "execution_count": null,
      "outputs": [
        {
          "output_type": "stream",
          "text": [
            "Pearson r: 0.9259292726922456\n",
            "PC 1: -0.9220526104991974:\n"
          ],
          "name": "stdout"
        }
      ]
    },
    {
      "cell_type": "markdown",
      "metadata": {
        "id": "dEpGDqkgzv7S"
      },
      "source": [
        "Bem próximo da variância explicada pela primeira PC. Já que estamos tentado relacionar esse resultado com correlação linear simples, como seria a relação entre a primeira Componente Principal e um ajuste linear?"
      ]
    },
    {
      "cell_type": "code",
      "metadata": {
        "ExecuteTime": {
          "end_time": "2021-03-15T21:48:27.968687Z",
          "start_time": "2021-03-15T21:48:12.867419Z"
        },
        "id": "Ul8JKNobzv7T",
        "outputId": "4cdd4b30-be76-44e4-ffaf-e739e7dd2bf1"
      },
      "source": [
        "import statsmodels.api as sm\n",
        "\n",
        "\n",
        "def OLSreg(y, Xmat):\n",
        "    return sm.OLS(y, sm.add_constant(Xmat, prepend=True)).fit()\n",
        "\n",
        "\n",
        "scale = lambda x: (x - x.mean()) / x.std()\n",
        "\n",
        "ols_fit = OLSreg(Z[:, 1], Z[:, 0])\n",
        "\n",
        "fig, ax = plt.subplots(figsize=(5, 5))\n",
        "ax.plot(Z[:, 0], Z[:, 1], **marker)\n",
        "ax.set_xlim([-2, 2])\n",
        "ax.set_ylim([-2, 2])\n",
        "ax.axhline(**line)\n",
        "ax.axvline(**line)\n",
        "ax.set_xlabel('x')\n",
        "ax.set_xlabel('y')\n",
        "\n",
        "ax.plot(Z[:, 0], ols_fit.fittedvalues, 'r', alpha=0.5)\n",
        "ax.text(-1, 1, r'R$^2$ = %4.3f' % round(ols_fit.rsquared, 3))\n",
        "\n",
        "a1 = ax.arrow(0, 0, eigenvalues[1], pc[1] * eigenvalues[1],\n",
        "              **arrowprops)\n",
        "a2 = ax.arrow(0, 0, -eigenvalues[1], -pc[1] * eigenvalues[1],\n",
        "              **arrowprops)"
      ],
      "execution_count": null,
      "outputs": [
        {
          "output_type": "display_data",
          "data": {
            "image/png": "[encoded data removed]",
            "text/plain": [
              "<Figure size 360x360 with 1 Axes>"
            ]
          },
          "metadata": {
            "tags": [],
            "needs_background": "light"
          }
        }
      ]
    },
    {
      "cell_type": "markdown",
      "metadata": {
        "id": "KWXw-47Zzv7U"
      },
      "source": [
        "Há um ângulo pequeno entre as retas formadas pela correlação linear (vermelho) e a reta da primeira Componente Principal (azul). Eu gosto de pensar que a correlação linear está \"contaminada\" pela variância da segunda Componente Principal."
      ]
    },
    {
      "cell_type": "markdown",
      "metadata": {
        "id": "G6iyO369zv7V"
      },
      "source": [
        "## PCA com dados reais\n",
        "Agora vamos começar com a aplicação no PDI usando uma imagem multispectral. Para nós a imagem nada mais é do que um conjunto de matrizes multidimensionais (cada banda é uma dimensão). Temos uma certa limitação na visualização de todoas as bandas. <br>\n",
        "O interprete humano só pode ver no máximo 3 bandas simultaneamente. <br>\n",
        "Então com a análise de componenetes principais podemos reduzir o número de bandas, vamos encontrar dentro do espaço espectral uma rotação que mostre nas primeiras componentes os valores menos correlacionados, facilitando a diferenciação de classes próximas."
      ]
    },
    {
      "cell_type": "code",
      "metadata": {
        "id": "mGa2gNAK2JlY"
      },
      "source": [
        "from google.colab import drive\n",
        "drive.mount('/content/drive')"
      ],
      "execution_count": null,
      "outputs": []
    },
    {
      "cell_type": "code",
      "metadata": {
        "id": "uMV8-5Vf3QG5"
      },
      "source": [
        "!pip install rasterio"
      ],
      "execution_count": null,
      "outputs": []
    },
    {
      "cell_type": "code",
      "metadata": {
        "ExecuteTime": {
          "end_time": "2021-03-17T21:57:52.125812Z",
          "start_time": "2021-03-17T21:57:51.875854Z"
        },
        "id": "5nXPb-9Nzv7V"
      },
      "source": [
        "import rasterio\n",
        "import numpy as np\n",
        "import pandas as pd\n",
        "from matplotlib import pyplot\n",
        "src = rasterio.open('/content/drive/MyDrive/Colab Notebooks/Landsat_SSA_8B.tif')\n",
        "#temos bandas de 1 à 7. O que significa 7 bandas no total\n",
        "array = src.read(7)\n",
        "pyplot.imshow(array, cmap='gray')\n",
        "pyplot.show() "
      ],
      "execution_count": null,
      "outputs": []
    },
    {
      "cell_type": "code",
      "metadata": {
        "ExecuteTime": {
          "end_time": "2021-03-17T22:05:40.876335Z",
          "start_time": "2021-03-17T22:05:40.625975Z"
        },
        "id": "nCFyBsBKzv7V"
      },
      "source": [
        "\n",
        "image= np.dstack((src.read(1),src.read(2),src.read(3),src.read(4),src.read(5),src.read(6),src.read(7)))\n",
        "pyplot.scatter(image[0], image[1])\n",
        "pyplot.show()\n"
      ],
      "execution_count": null,
      "outputs": []
    },
    {
      "cell_type": "code",
      "metadata": {
        "ExecuteTime": {
          "end_time": "2021-03-17T22:05:42.146323Z",
          "start_time": "2021-03-17T22:05:42.126242Z"
        },
        "id": "bIvGinwxzv7W"
      },
      "source": [
        "image[1].size"
      ],
      "execution_count": null,
      "outputs": []
    },
    {
      "cell_type": "code",
      "metadata": {
        "ExecuteTime": {
          "end_time": "2021-03-17T22:05:43.281040Z",
          "start_time": "2021-03-17T22:05:43.260904Z"
        },
        "id": "w9SKuSObzv7W"
      },
      "source": [
        "image.shape"
      ],
      "execution_count": null,
      "outputs": []
    },
    {
      "cell_type": "code",
      "metadata": {
        "ExecuteTime": {
          "end_time": "2021-03-17T22:05:43.846235Z",
          "start_time": "2021-03-17T22:05:43.835892Z"
        },
        "id": "kUWhnvgqzv7W"
      },
      "source": [
        "image[0,0,:]"
      ],
      "execution_count": null,
      "outputs": []
    },
    {
      "cell_type": "code",
      "metadata": {
        "ExecuteTime": {
          "end_time": "2021-03-17T22:05:44.605829Z",
          "start_time": "2021-03-17T22:05:44.455945Z"
        },
        "id": "l7irCnWgzv7X"
      },
      "source": [
        "Matrix_pix=[]\n",
        "for j in range (image.shape[1]-1): \n",
        "    for i in range(image.shape[0]-1): \n",
        "        Matrix_pix.append(image[i,j,:].reshape(-1))"
      ],
      "execution_count": null,
      "outputs": []
    },
    {
      "cell_type": "code",
      "metadata": {
        "ExecuteTime": {
          "end_time": "2021-03-17T22:05:45.426221Z",
          "start_time": "2021-03-17T22:05:45.371434Z"
        },
        "id": "ff0tPQcPzv7X"
      },
      "source": [
        "name_cols = ['pixel'+str(i) for i in range(55600)]"
      ],
      "execution_count": null,
      "outputs": []
    },
    {
      "cell_type": "code",
      "metadata": {
        "ExecuteTime": {
          "end_time": "2021-03-17T22:05:46.346168Z",
          "start_time": "2021-03-17T22:05:46.256004Z"
        },
        "id": "t8khpX1nzv7Y"
      },
      "source": [
        "df_image = pd.DataFrame(np.array(Matrix_pix).T,columns=name_cols)"
      ],
      "execution_count": null,
      "outputs": []
    },
    {
      "cell_type": "code",
      "metadata": {
        "ExecuteTime": {
          "end_time": "2021-03-17T22:05:47.196319Z",
          "start_time": "2021-03-17T22:05:47.105829Z"
        },
        "id": "omtY6CR5zv7Y"
      },
      "source": [
        "\n",
        "print(df_image)"
      ],
      "execution_count": null,
      "outputs": []
    },
    {
      "cell_type": "code",
      "metadata": {
        "ExecuteTime": {
          "end_time": "2021-03-17T22:05:53.236470Z",
          "start_time": "2021-03-17T22:05:48.416263Z"
        },
        "id": "c7WLoSF4zv7Z"
      },
      "source": [
        "from sklearn.decomposition import PCA\n",
        "\n",
        "pca = PCA(n_components=7, copy=True)\n",
        "X = pca.fit_transform(df_image)"
      ],
      "execution_count": null,
      "outputs": []
    },
    {
      "cell_type": "code",
      "metadata": {
        "ExecuteTime": {
          "end_time": "2021-03-17T22:05:53.356336Z",
          "start_time": "2021-03-17T22:05:53.241479Z"
        },
        "id": "FrIG1Zvqzv7Z"
      },
      "source": [
        "new_image=np.dot(X,df_image)"
      ],
      "execution_count": null,
      "outputs": []
    },
    {
      "cell_type": "code",
      "metadata": {
        "ExecuteTime": {
          "end_time": "2021-03-17T22:05:54.311267Z",
          "start_time": "2021-03-17T22:05:54.296164Z"
        },
        "id": "3tn3rPZVzv7Z"
      },
      "source": [
        "new_image.shape"
      ],
      "execution_count": null,
      "outputs": []
    },
    {
      "cell_type": "code",
      "metadata": {
        "ExecuteTime": {
          "end_time": "2021-03-17T22:05:55.255921Z",
          "start_time": "2021-03-17T22:05:55.146285Z"
        },
        "id": "NylAlURnzv7Z"
      },
      "source": [
        "#falta criar uma forma de voltar a imagem...\n",
        "\n",
        "PCA_image=[]\n",
        "c=0\n",
        "for j in range (image.shape[1]-1): \n",
        "    c=c+j\n",
        "    for i in range(image.shape[0]-1): \n",
        "        c=c+i              \n",
        "        for k in range (6):            \n",
        "            if (c==55599):\n",
        "                print(i+j)\n"
      ],
      "execution_count": null,
      "outputs": []
    },
    {
      "cell_type": "code",
      "metadata": {
        "ExecuteTime": {
          "end_time": "2021-03-08T18:24:09.800663Z",
          "start_time": "2021-03-08T18:24:09.590924Z"
        },
        "id": "r2dzD7Rnzv7a"
      },
      "source": [
        ""
      ],
      "execution_count": null,
      "outputs": []
    },
    {
      "cell_type": "code",
      "metadata": {
        "ExecuteTime": {
          "end_time": "2021-03-17T22:05:57.026187Z",
          "start_time": "2021-03-17T22:05:56.946015Z"
        },
        "id": "a0L4ab8Czv7b"
      },
      "source": [
        "im_cov=np.cov(df_image)\n"
      ],
      "execution_count": null,
      "outputs": []
    },
    {
      "cell_type": "code",
      "metadata": {
        "ExecuteTime": {
          "end_time": "2021-03-17T22:05:58.306168Z",
          "start_time": "2021-03-17T22:05:58.166278Z"
        },
        "id": "6kZX4f3Dzv7b"
      },
      "source": [
        "U, S, V = np.linalg.svd(im_cov, full_matrices=True, compute_uv=True)\n",
        "\n",
        "S  # Similar aos Autovalores\n",
        "V  # Similar aos Autovetores\n",
        "V.shape"
      ],
      "execution_count": null,
      "outputs": []
    },
    {
      "cell_type": "code",
      "metadata": {
        "ExecuteTime": {
          "end_time": "2021-03-17T22:05:59.506279Z",
          "start_time": "2021-03-17T22:05:59.446357Z"
        },
        "id": "Mseh9EVmzv7b"
      },
      "source": [
        "PCA_mat_image=np.dot(V,np.array(Matrix_pix).T)\n",
        "PCA_mat_image.shape"
      ],
      "execution_count": null,
      "outputs": []
    },
    {
      "cell_type": "code",
      "metadata": {
        "ExecuteTime": {
          "end_time": "2021-03-17T22:06:00.565917Z",
          "start_time": "2021-03-17T22:06:00.416178Z"
        },
        "id": "exY18tnHzv7c"
      },
      "source": [
        "c=0\n",
        "for j in range (image.shape[1]-1): \n",
        "    for i in range(image.shape[0]-1): \n",
        "        image[i,j,:]=PCA_mat_image[:,c].T\n",
        "        c=c+1"
      ],
      "execution_count": null,
      "outputs": []
    },
    {
      "cell_type": "code",
      "metadata": {
        "ExecuteTime": {
          "end_time": "2021-03-17T22:11:43.616239Z",
          "start_time": "2021-03-17T22:11:43.386048Z"
        },
        "id": "QGKTnl40zv7e"
      },
      "source": [
        "pyplot.imshow(image[:,:,3], cmap='gray')\n",
        "pyplot.show() "
      ],
      "execution_count": null,
      "outputs": []
    },
    {
      "cell_type": "code",
      "metadata": {
        "ExecuteTime": {
          "end_time": "2021-03-17T22:13:19.396199Z",
          "start_time": "2021-03-17T22:13:19.376102Z"
        },
        "id": "IHnnkl6dzv7f"
      },
      "source": [
        "\n",
        "image_PC= np.dstack((image[:,:,1],image[:,:,2],image[:,:,3]))\n",
        "#pyplot.imshow(image_PC)\n",
        "#pyplot.show() \n",
        "#pesquisar visualização de composições coloridas com mais de 8bits\n"
      ],
      "execution_count": null,
      "outputs": []
    },
    {
      "cell_type": "markdown",
      "metadata": {
        "ExecuteTime": {
          "end_time": "2021-03-08T17:02:04.462517Z",
          "start_time": "2021-03-08T17:02:04.232291Z"
        },
        "id": "NzMovnRLzv7g"
      },
      "source": [
        "## PCA na Compressão de Imagens"
      ]
    },
    {
      "cell_type": "code",
      "metadata": {
        "ExecuteTime": {
          "end_time": "2021-03-17T22:15:57.096355Z",
          "start_time": "2021-03-17T22:15:54.295918Z"
        },
        "id": "07iVNqLlzv7g"
      },
      "source": [
        "import cv2\n",
        "import numpy as np\n",
        "import matplotlib.pyplot as plt\n",
        "from sklearn.decomposition import PCA"
      ],
      "execution_count": null,
      "outputs": []
    },
    {
      "cell_type": "code",
      "metadata": {
        "ExecuteTime": {
          "end_time": "2021-03-17T22:15:58.235948Z",
          "start_time": "2021-03-17T22:15:57.140852Z"
        },
        "id": "RFJG4CB6zv7j",
        "colab": {
          "base_uri": "https://localhost:8080/",
          "height": 287
        },
        "outputId": "81e53e63-cdbd-4d5f-bcde-ba1bc5535d9d"
      },
      "source": [
        "# Loading the image \n",
        "img = cv2.imread('/content/drive/MyDrive/Colab Notebooks/sheldon.png') #you can use any image you want.\n",
        "plt.imshow(img)"
      ],
      "execution_count": null,
      "outputs": [
        {
          "output_type": "execute_result",
          "data": {
            "text/plain": [
              "<matplotlib.image.AxesImage at 0x7fd9c2cf2790>"
            ]
          },
          "metadata": {
            "tags": []
          },
          "execution_count": 40
        },
        {
          "output_type": "display_data",
          "data": {
            "image/png": "[encoded data removed]",
            "text/plain": [
              "<Figure size 432x288 with 1 Axes>"
            ]
          },
          "metadata": {
            "tags": [],
            "needs_background": "light"
          }
        }
      ]
    },
    {
      "cell_type": "code",
      "metadata": {
        "ExecuteTime": {
          "end_time": "2021-03-17T22:15:59.996232Z",
          "start_time": "2021-03-17T22:15:59.855981Z"
        },
        "id": "dMlWQdoMzv7j"
      },
      "source": [
        "# Splitting the image in R,G,B arrays.\n",
        " \n",
        "blue,green,red = cv2.split(img) \n",
        "#it will split the original image into Blue, Green and Red arrays."
      ],
      "execution_count": null,
      "outputs": []
    },
    {
      "cell_type": "code",
      "metadata": {
        "ExecuteTime": {
          "end_time": "2021-03-17T22:19:00.376185Z",
          "start_time": "2021-03-17T22:18:59.295827Z"
        },
        "id": "6GS0lPA-zv7j"
      },
      "source": [
        "#initialize PCA with first 20 principal components\n",
        "pca = PCA(30)\n",
        " \n",
        "#Applying to red channel and then applying inverse transform to transformed array.\n",
        "red_transformed = pca.fit_transform(red)\n",
        "red_inverted = pca.inverse_transform(red_transformed)\n",
        " \n",
        "#Applying to Green channel and then applying inverse transform to transformed array.\n",
        "green_transformed = pca.fit_transform(green)\n",
        "green_inverted = pca.inverse_transform(green_transformed)\n",
        " \n",
        "#Applying to Blue channel and then applying inverse transform to transformed array.\n",
        "blue_transformed = pca.fit_transform(blue)\n",
        "blue_inverted = pca.inverse_transform(blue_transformed)"
      ],
      "execution_count": null,
      "outputs": []
    },
    {
      "cell_type": "code",
      "metadata": {
        "ExecuteTime": {
          "end_time": "2021-03-17T22:19:00.546183Z",
          "start_time": "2021-03-17T22:19:00.378240Z"
        },
        "id": "7YK4HzwOzv7k"
      },
      "source": [
        "img_compressed = (np.dstack((blue_inverted, green_inverted, red_inverted))).astype(np.uint8)"
      ],
      "execution_count": null,
      "outputs": []
    },
    {
      "cell_type": "code",
      "metadata": {
        "ExecuteTime": {
          "end_time": "2021-03-17T22:19:02.596117Z",
          "start_time": "2021-03-17T22:19:01.895977Z"
        },
        "id": "lfKyGgX3zv7l",
        "colab": {
          "base_uri": "https://localhost:8080/",
          "height": 287
        },
        "outputId": "49c667be-cb5c-4025-fa54-38762814a669"
      },
      "source": [
        "#viewing the compressed image\n",
        "plt.imshow(img_compressed)"
      ],
      "execution_count": null,
      "outputs": [
        {
          "output_type": "execute_result",
          "data": {
            "text/plain": [
              "<matplotlib.image.AxesImage at 0x7fd9c2c56fd0>"
            ]
          },
          "metadata": {
            "tags": []
          },
          "execution_count": 44
        },
        {
          "output_type": "display_data",
          "data": {
            "image/png": "[encoded data removed]",
            "text/plain": [
              "<Figure size 432x288 with 1 Axes>"
            ]
          },
          "metadata": {
            "tags": [],
            "needs_background": "light"
          }
        }
      ]
    }
  ]
}